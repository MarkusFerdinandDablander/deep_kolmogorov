{
 "cells": [
  {
   "cell_type": "markdown",
   "metadata": {},
   "source": [
    "## Run experiments\n",
    "\n",
    "Specify the number of gpus per trial and run different experiments.\n",
    "\n",
    "- `avg_xyz`: 4 independent runs for the black scholes model/heat equations (paraboloid/Gaussian initial condition)/basket option\n",
    "- `compare_xyz`: compare networks for the black scholes model/heat equation (paraboloid initial condition)\n",
    "- `dims_heat_paraboloid`: compare the cost w.r.t. varying input dimension for the heat equation (paraboloid initial condition)\n",
    "- `optimize_bs`: hyperparameter search for the black scholes model\n",
    "- `compare_freeze`: compare freezing strategies for the black scholes model\n",
    "\n",
    "... or add your favorite experiment to `HYPERCONFIGS` in `deep_kolmogorov/trainer`."
   ]
  },
  {
   "cell_type": "code",
   "execution_count": null,
   "metadata": {},
   "outputs": [],
   "source": [
    "from deep_kolmogorov import utils\n",
    "run_widget = utils.get_run_widget()\n",
    "run_widget"
   ]
  },
  {
   "cell_type": "code",
   "execution_count": null,
   "metadata": {},
   "outputs": [],
   "source": [
    "!python main.py --mode={run_widget.children[0].value} --gpus={run_widget.children[1].value}"
   ]
  },
  {
   "cell_type": "code",
   "execution_count": null,
   "metadata": {},
   "outputs": [],
   "source": [
    "# optional: individual experiment\n",
    "!python main.py --help"
   ]
  },
  {
   "cell_type": "markdown",
   "metadata": {},
   "source": [
    "## Analyze experiments\n",
    "\n",
    "Choose a finished/precomputed experiment to analyze."
   ]
  },
  {
   "cell_type": "code",
   "execution_count": null,
   "metadata": {},
   "outputs": [],
   "source": [
    "from deep_kolmogorov import utils\n",
    "exp_widget = utils.get_exp_widget()\n",
    "exp_widget"
   ]
  },
  {
   "cell_type": "markdown",
   "metadata": {},
   "source": [
    "### Tensorboard\n",
    "\n",
    "Open tensorboard to analyze the experiment."
   ]
  },
  {
   "cell_type": "code",
   "execution_count": null,
   "metadata": {},
   "outputs": [],
   "source": [
    "%load_ext tensorboard\n",
    "%tensorboard --logdir '{exp_widget.value._experiment_dir}'"
   ]
  },
  {
   "cell_type": "markdown",
   "metadata": {},
   "source": [
    "### Tables\n",
    "\n",
    "Output tables for the chosen experiment."
   ]
  },
  {
   "cell_type": "code",
   "execution_count": null,
   "metadata": {
    "scrolled": true
   },
   "outputs": [],
   "source": [
    "utils.visualize_exp(exp_widget.value, show_only_final=False)"
   ]
  },
  {
   "cell_type": "markdown",
   "metadata": {},
   "source": [
    "### Black-Scholes Model approximation\n",
    "\n",
    "Choose the 'avg_bs' experiment and plot the approximation to the analytic solutions."
   ]
  },
  {
   "cell_type": "code",
   "execution_count": null,
   "metadata": {},
   "outputs": [],
   "source": [
    "utils.get_bs_widget(exp_widget.value)"
   ]
  }
 ],
 "metadata": {
  "@webio": {
   "lastCommId": null,
   "lastKernelId": null
  },
  "kernelspec": {
   "display_name": "dl_kolm_env",
   "language": "python",
   "name": "dl_kolm_env"
  },
  "language_info": {
   "codemirror_mode": {
    "name": "ipython",
    "version": 3
   },
   "file_extension": ".py",
   "mimetype": "text/x-python",
   "name": "python",
   "nbconvert_exporter": "python",
   "pygments_lexer": "ipython3",
   "version": "3.8.0"
  }
 },
 "nbformat": 4,
 "nbformat_minor": 2
}
